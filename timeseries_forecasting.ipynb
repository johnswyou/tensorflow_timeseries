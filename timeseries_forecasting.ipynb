{
 "cells": [
  {
   "cell_type": "code",
   "execution_count": 1,
   "metadata": {},
   "outputs": [],
   "source": [
    "from tsutils import get_jena, WindowGenerator, compile_and_fit\n",
    "import tensorflow as tf"
   ]
  },
  {
   "cell_type": "markdown",
   "metadata": {},
   "source": [
    "# Split Data"
   ]
  },
  {
   "cell_type": "code",
   "execution_count": 2,
   "metadata": {},
   "outputs": [],
   "source": [
    "df = get_jena()"
   ]
  },
  {
   "cell_type": "code",
   "execution_count": 3,
   "metadata": {},
   "outputs": [
    {
     "data": {
      "text/html": [
       "<div>\n",
       "<style scoped>\n",
       "    .dataframe tbody tr th:only-of-type {\n",
       "        vertical-align: middle;\n",
       "    }\n",
       "\n",
       "    .dataframe tbody tr th {\n",
       "        vertical-align: top;\n",
       "    }\n",
       "\n",
       "    .dataframe thead th {\n",
       "        text-align: right;\n",
       "    }\n",
       "</style>\n",
       "<table border=\"1\" class=\"dataframe\">\n",
       "  <thead>\n",
       "    <tr style=\"text-align: right;\">\n",
       "      <th></th>\n",
       "      <th>p (mbar)</th>\n",
       "      <th>T (degC)</th>\n",
       "      <th>Tpot (K)</th>\n",
       "      <th>Tdew (degC)</th>\n",
       "      <th>rh (%)</th>\n",
       "      <th>VPmax (mbar)</th>\n",
       "      <th>VPact (mbar)</th>\n",
       "      <th>VPdef (mbar)</th>\n",
       "      <th>sh (g/kg)</th>\n",
       "      <th>H2OC (mmol/mol)</th>\n",
       "      <th>rho (g/m**3)</th>\n",
       "      <th>Wx</th>\n",
       "      <th>Wy</th>\n",
       "      <th>max Wx</th>\n",
       "      <th>max Wy</th>\n",
       "      <th>Day sin</th>\n",
       "      <th>Day cos</th>\n",
       "      <th>Year sin</th>\n",
       "      <th>Year cos</th>\n",
       "    </tr>\n",
       "  </thead>\n",
       "  <tbody>\n",
       "    <tr>\n",
       "      <th>5</th>\n",
       "      <td>996.50</td>\n",
       "      <td>-8.05</td>\n",
       "      <td>265.38</td>\n",
       "      <td>-8.78</td>\n",
       "      <td>94.4</td>\n",
       "      <td>3.33</td>\n",
       "      <td>3.14</td>\n",
       "      <td>0.19</td>\n",
       "      <td>1.96</td>\n",
       "      <td>3.15</td>\n",
       "      <td>1307.86</td>\n",
       "      <td>-0.204862</td>\n",
       "      <td>-0.046168</td>\n",
       "      <td>-0.614587</td>\n",
       "      <td>-0.138503</td>\n",
       "      <td>0.258819</td>\n",
       "      <td>0.965926</td>\n",
       "      <td>0.010049</td>\n",
       "      <td>0.999950</td>\n",
       "    </tr>\n",
       "    <tr>\n",
       "      <th>11</th>\n",
       "      <td>996.62</td>\n",
       "      <td>-8.88</td>\n",
       "      <td>264.54</td>\n",
       "      <td>-9.77</td>\n",
       "      <td>93.2</td>\n",
       "      <td>3.12</td>\n",
       "      <td>2.90</td>\n",
       "      <td>0.21</td>\n",
       "      <td>1.81</td>\n",
       "      <td>2.91</td>\n",
       "      <td>1312.25</td>\n",
       "      <td>-0.245971</td>\n",
       "      <td>-0.044701</td>\n",
       "      <td>-0.619848</td>\n",
       "      <td>-0.112645</td>\n",
       "      <td>0.500000</td>\n",
       "      <td>0.866025</td>\n",
       "      <td>0.010766</td>\n",
       "      <td>0.999942</td>\n",
       "    </tr>\n",
       "    <tr>\n",
       "      <th>17</th>\n",
       "      <td>996.84</td>\n",
       "      <td>-8.81</td>\n",
       "      <td>264.59</td>\n",
       "      <td>-9.66</td>\n",
       "      <td>93.5</td>\n",
       "      <td>3.13</td>\n",
       "      <td>2.93</td>\n",
       "      <td>0.20</td>\n",
       "      <td>1.83</td>\n",
       "      <td>2.94</td>\n",
       "      <td>1312.18</td>\n",
       "      <td>-0.175527</td>\n",
       "      <td>0.039879</td>\n",
       "      <td>-0.614344</td>\n",
       "      <td>0.139576</td>\n",
       "      <td>0.707107</td>\n",
       "      <td>0.707107</td>\n",
       "      <td>0.011483</td>\n",
       "      <td>0.999934</td>\n",
       "    </tr>\n",
       "    <tr>\n",
       "      <th>23</th>\n",
       "      <td>996.99</td>\n",
       "      <td>-9.05</td>\n",
       "      <td>264.34</td>\n",
       "      <td>-10.02</td>\n",
       "      <td>92.6</td>\n",
       "      <td>3.07</td>\n",
       "      <td>2.85</td>\n",
       "      <td>0.23</td>\n",
       "      <td>1.78</td>\n",
       "      <td>2.85</td>\n",
       "      <td>1313.61</td>\n",
       "      <td>-0.050000</td>\n",
       "      <td>-0.086603</td>\n",
       "      <td>-0.190000</td>\n",
       "      <td>-0.329090</td>\n",
       "      <td>0.866025</td>\n",
       "      <td>0.500000</td>\n",
       "      <td>0.012199</td>\n",
       "      <td>0.999926</td>\n",
       "    </tr>\n",
       "    <tr>\n",
       "      <th>29</th>\n",
       "      <td>997.46</td>\n",
       "      <td>-9.63</td>\n",
       "      <td>263.72</td>\n",
       "      <td>-10.65</td>\n",
       "      <td>92.2</td>\n",
       "      <td>2.94</td>\n",
       "      <td>2.71</td>\n",
       "      <td>0.23</td>\n",
       "      <td>1.69</td>\n",
       "      <td>2.71</td>\n",
       "      <td>1317.19</td>\n",
       "      <td>-0.368202</td>\n",
       "      <td>0.156292</td>\n",
       "      <td>-0.810044</td>\n",
       "      <td>0.343843</td>\n",
       "      <td>0.965926</td>\n",
       "      <td>0.258819</td>\n",
       "      <td>0.012916</td>\n",
       "      <td>0.999917</td>\n",
       "    </tr>\n",
       "  </tbody>\n",
       "</table>\n",
       "</div>"
      ],
      "text/plain": [
       "    p (mbar)  T (degC)  Tpot (K)  Tdew (degC)  rh (%)  VPmax (mbar)  \\\n",
       "5     996.50     -8.05    265.38        -8.78    94.4          3.33   \n",
       "11    996.62     -8.88    264.54        -9.77    93.2          3.12   \n",
       "17    996.84     -8.81    264.59        -9.66    93.5          3.13   \n",
       "23    996.99     -9.05    264.34       -10.02    92.6          3.07   \n",
       "29    997.46     -9.63    263.72       -10.65    92.2          2.94   \n",
       "\n",
       "    VPact (mbar)  VPdef (mbar)  sh (g/kg)  H2OC (mmol/mol)  rho (g/m**3)  \\\n",
       "5           3.14          0.19       1.96             3.15       1307.86   \n",
       "11          2.90          0.21       1.81             2.91       1312.25   \n",
       "17          2.93          0.20       1.83             2.94       1312.18   \n",
       "23          2.85          0.23       1.78             2.85       1313.61   \n",
       "29          2.71          0.23       1.69             2.71       1317.19   \n",
       "\n",
       "          Wx        Wy    max Wx    max Wy   Day sin   Day cos  Year sin  \\\n",
       "5  -0.204862 -0.046168 -0.614587 -0.138503  0.258819  0.965926  0.010049   \n",
       "11 -0.245971 -0.044701 -0.619848 -0.112645  0.500000  0.866025  0.010766   \n",
       "17 -0.175527  0.039879 -0.614344  0.139576  0.707107  0.707107  0.011483   \n",
       "23 -0.050000 -0.086603 -0.190000 -0.329090  0.866025  0.500000  0.012199   \n",
       "29 -0.368202  0.156292 -0.810044  0.343843  0.965926  0.258819  0.012916   \n",
       "\n",
       "    Year cos  \n",
       "5   0.999950  \n",
       "11  0.999942  \n",
       "17  0.999934  \n",
       "23  0.999926  \n",
       "29  0.999917  "
      ]
     },
     "execution_count": 3,
     "metadata": {},
     "output_type": "execute_result"
    }
   ],
   "source": [
    "df.head()"
   ]
  },
  {
   "cell_type": "code",
   "execution_count": 4,
   "metadata": {},
   "outputs": [
    {
     "data": {
      "text/plain": [
       "(70091, 19)"
      ]
     },
     "execution_count": 4,
     "metadata": {},
     "output_type": "execute_result"
    }
   ],
   "source": [
    "df.shape"
   ]
  },
  {
   "cell_type": "markdown",
   "metadata": {},
   "source": [
    "We will use a 70%, 20%, 10% train/validation/test split."
   ]
  },
  {
   "cell_type": "code",
   "execution_count": 5,
   "metadata": {},
   "outputs": [],
   "source": [
    "column_indices = {name: i for i, name in enumerate(df.columns)}\n",
    "\n",
    "n = len(df)\n",
    "train_df = df[0:int(n*0.7)]\n",
    "val_df = df[int(n*0.7):int(n*0.9)]\n",
    "test_df = df[int(n*0.9):]\n",
    "\n",
    "# num_features = df.shape[1]"
   ]
  },
  {
   "cell_type": "code",
   "execution_count": 6,
   "metadata": {},
   "outputs": [],
   "source": [
    "train_mean = train_df.mean()\n",
    "train_std = train_df.std()\n",
    "\n",
    "train_df = (train_df - train_mean) / train_std\n",
    "val_df = (val_df - train_mean) / train_std\n",
    "test_df = (test_df - train_mean) / train_std"
   ]
  },
  {
   "cell_type": "markdown",
   "metadata": {},
   "source": [
    "# Test `WindowGenerator`"
   ]
  },
  {
   "cell_type": "code",
   "execution_count": 7,
   "metadata": {},
   "outputs": [],
   "source": [
    "w = WindowGenerator(14, 1, 7, train_df, val_df, test_df, ['T (degC)'])"
   ]
  },
  {
   "cell_type": "code",
   "execution_count": 8,
   "metadata": {},
   "outputs": [
    {
     "data": {
      "text/plain": [
       "Total window size: 21\n",
       "Input indices: [ 0  1  2  3  4  5  6  7  8  9 10 11 12 13]\n",
       "Label indices: [20]\n",
       "Label column name(s): ['T (degC)']"
      ]
     },
     "execution_count": 8,
     "metadata": {},
     "output_type": "execute_result"
    }
   ],
   "source": [
    "w"
   ]
  },
  {
   "cell_type": "code",
   "execution_count": 10,
   "metadata": {},
   "outputs": [
    {
     "data": {
      "image/png": "[encoded data removed]",
      "text/plain": [
       "<Figure size 1200x800 with 3 Axes>"
      ]
     },
     "metadata": {},
     "output_type": "display_data"
    }
   ],
   "source": [
    "w.plot('T (degC)')"
   ]
  },
  {
   "cell_type": "markdown",
   "metadata": {},
   "source": [
    "# Make Forecast Model"
   ]
  },
  {
   "cell_type": "code",
   "execution_count": 11,
   "metadata": {},
   "outputs": [],
   "source": [
    "lstm_model = tf.keras.models.Sequential([\n",
    "    # Shape [batch, time, features] => [batch, time, lstm_units]\n",
    "    tf.keras.layers.LSTM(32, return_sequences=False),\n",
    "    tf.keras.layers.Dropout(0.5),\n",
    "    # Shape => [batch, time, features]\n",
    "    tf.keras.layers.Dense(units=1)\n",
    "])"
   ]
  },
  {
   "cell_type": "code",
   "execution_count": 13,
   "metadata": {},
   "outputs": [
    {
     "name": "stdout",
     "output_type": "stream",
     "text": [
      "Epoch 1/20\n"
     ]
    },
    {
     "name": "stderr",
     "output_type": "stream",
     "text": [
      "2022-12-06 13:01:05.298494: I tensorflow/stream_executor/cuda/cuda_dnn.cc:384] Loaded cuDNN version 8100\n"
     ]
    },
    {
     "name": "stdout",
     "output_type": "stream",
     "text": [
      "1533/1533 [==============================] - 19s 9ms/step - loss: 0.1533 - mean_absolute_error: 0.2918 - val_loss: 0.0648 - val_mean_absolute_error: 0.1964\n",
      "Epoch 2/20\n",
      "1533/1533 [==============================] - 17s 11ms/step - loss: 0.0991 - mean_absolute_error: 0.2419 - val_loss: 0.0620 - val_mean_absolute_error: 0.1916\n",
      "Epoch 3/20\n",
      "1533/1533 [==============================] - 21s 14ms/step - loss: 0.0927 - mean_absolute_error: 0.2335 - val_loss: 0.0581 - val_mean_absolute_error: 0.1858\n",
      "Epoch 4/20\n",
      "1533/1533 [==============================] - 17s 11ms/step - loss: 0.0900 - mean_absolute_error: 0.2292 - val_loss: 0.0556 - val_mean_absolute_error: 0.1809\n",
      "Epoch 5/20\n",
      "1533/1533 [==============================] - 17s 11ms/step - loss: 0.0869 - mean_absolute_error: 0.2255 - val_loss: 0.0539 - val_mean_absolute_error: 0.1778\n",
      "Epoch 6/20\n",
      "1533/1533 [==============================] - 19s 12ms/step - loss: 0.0851 - mean_absolute_error: 0.2229 - val_loss: 0.0570 - val_mean_absolute_error: 0.1825\n",
      "Epoch 7/20\n",
      "1533/1533 [==============================] - 18s 12ms/step - loss: 0.0851 - mean_absolute_error: 0.2226 - val_loss: 0.0592 - val_mean_absolute_error: 0.1852\n",
      "Epoch 8/20\n",
      "1533/1533 [==============================] - 15s 10ms/step - loss: 0.0840 - mean_absolute_error: 0.2203 - val_loss: 0.0562 - val_mean_absolute_error: 0.1812\n",
      "Epoch 9/20\n",
      "1533/1533 [==============================] - 17s 11ms/step - loss: 0.0828 - mean_absolute_error: 0.2190 - val_loss: 0.0540 - val_mean_absolute_error: 0.1776\n",
      "Epoch 10/20\n",
      "1533/1533 [==============================] - 21s 13ms/step - loss: 0.0817 - mean_absolute_error: 0.2183 - val_loss: 0.0611 - val_mean_absolute_error: 0.1898\n"
     ]
    }
   ],
   "source": [
    "history = compile_and_fit(lstm_model, w, 20, 5)"
   ]
  },
  {
   "cell_type": "code",
   "execution_count": null,
   "metadata": {},
   "outputs": [],
   "source": []
  }
 ],
 "metadata": {
  "kernelspec": {
   "display_name": "Python 3.9.13 ('tf')",
   "language": "python",
   "name": "python3"
  },
  "language_info": {
   "codemirror_mode": {
    "name": "ipython",
    "version": 3
   },
   "file_extension": ".py",
   "mimetype": "text/x-python",
   "name": "python",
   "nbconvert_exporter": "python",
   "pygments_lexer": "ipython3",
   "version": "3.9.13"
  },
  "orig_nbformat": 4,
  "vscode": {
   "interpreter": {
    "hash": "99be3129cc2e573359f2b87bd775985dcf9da9b2587cbf83b9b942ddfb75665f"
   }
  }
 },
 "nbformat": 4,
 "nbformat_minor": 2
}
